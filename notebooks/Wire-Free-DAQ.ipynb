{
 "metadata": {
  "language_info": {
   "codemirror_mode": {
    "name": "ipython",
    "version": 3
   },
   "file_extension": ".py",
   "mimetype": "text/x-python",
   "name": "python",
   "nbconvert_exporter": "python",
   "pygments_lexer": "ipython3",
   "version": "3.8.5-final"
  },
  "orig_nbformat": 2,
  "kernelspec": {
   "name": "python_defaultSpec_1599793990987",
   "display_name": "Python 3.8.5 32-bit"
  }
 },
 "nbformat": 4,
 "nbformat_minor": 2,
 "cells": [
  {
   "cell_type": "code",
   "execution_count": 1,
   "metadata": {},
   "outputs": [],
   "source": [
    "import numpy as np\n",
    "import cv2\n",
    "import time"
   ]
  },
  {
   "cell_type": "code",
   "execution_count": 2,
   "metadata": {},
   "outputs": [],
   "source": [
    "driveName = r\"\\\\.\\PhysicalDrive1\"  # Change this to the correct drive\n",
    "\n",
    "# SD Card sector information\n",
    "headerSector =          1023 # Holds user settings to configure Miniscope and recording\n",
    "configSector =          1024 # Holds final settings of the actual recording\n",
    "dataStartSector =       1025 # Recording data starts here\n",
    "sectorSize =            512\n",
    "\n",
    "WRITE_KEY0 =\t\t\t\t0x0D7CBA17\n",
    "WRITE_KEY1 =\t\t\t\t0x0D7CBA17\n",
    "WRITE_KEY2 =\t\t\t\t0x0D7CBA17\n",
    "WRITE_KEY3 =\t\t\t\t0x0D7CBA17\n",
    "\n",
    "# SD Card Header Sector positions\n",
    "HEADER_GAIN_POS =\t\t\t\t4\n",
    "HEADER_LED_POS =\t\t\t\t5\n",
    "HEADER_EWL_POS =\t\t\t\t6\n",
    "HEADER_RECORD_LENGTH_POS =  \t7\n",
    "HEADER_FRAME_RATE = \t\t\t8\n",
    "\n",
    "# SD Card Config Sector positions\n",
    "CONFIG_BLOCK_WIDTH_POS =\t\t\t    0\n",
    "CONFIG_BLOCK_HEIGHT_POS\t=   \t\t    1\n",
    "CONFIG_BLOCK_FRAME_RATE_POS\t=   \t    2\n",
    "CONFIG_BLOCK_BUFFER_SIZE_POS =  \t    3\n",
    "CONFIG_BLOCK_NUM_BUFFERS_RECORDED_POS =\t4\n",
    "CONFIG_BLOCK_NUM_BUFFERS_DROPPED_POS =\t5\n",
    "\n",
    "# Data Buffer Header positions\n",
    "BUFFER_HEADER_HEADER_LENGTH_POS =\t\t\t0\n",
    "BUFFER_HEADER_LINKED_LIST_POS = \t\t\t1\n",
    "BUFFER_HEADER_FRAME_NUM_POS\t=   \t\t\t2\n",
    "BUFFER_HEADER_BUFFER_COUNT_POS =\t\t\t3\n",
    "BUFFER_HEADER_FRAME_BUFFER_COUNT_POS =  \t4\n",
    "BUFFER_HEADER_WRITE_BUFFER_COUNT_POS =  \t5\n",
    "BUFFER_HEADER_DROPPED_BUFFER_COUNT_POS =\t6\n",
    "BUFFER_HEADER_TIMESTAMP_POS\t=   \t\t\t7\n",
    "BUFFER_HEADER_DATA_LENGTH_POS = \t\t\t8"
   ]
  },
  {
   "cell_type": "code",
   "execution_count": 10,
   "metadata": {
    "tags": []
   },
   "outputs": [
    {
     "output_type": "stream",
     "name": "stdout",
     "text": "SD Card Openned.\n"
    }
   ],
   "source": [
    "# variables that you can adjust\n",
    "correctDrive = False\n",
    "f = open(driveName, \"rb\")  # Open drive\n",
    "\n",
    "# Make sure this is the correct drive\n",
    "# Read SD Card header and config sectors\n",
    "f.seek(headerSector * sectorSize, 0)  # Move to correct sector\n",
    "headerSectorData = np.fromstring(f.read(sectorSize), dtype=np.uint32)\n",
    "if ((WRITE_KEY0 == headerSectorData[0]) and (WRITE_KEY1 == headerSectorData[1]) and (WRITE_KEY2 == headerSectorData[2]) and (WRITE_KEY3 == headerSectorData[3])):\n",
    "    correctDrive = True\n",
    "    print(\"SD Card Openned.\")\n",
    "else:\n",
    "    print (\"Wrong Drive.\")\n",
    "    correctDrive = False\n",
    "    f.close()"
   ]
  },
  {
   "cell_type": "code",
   "execution_count": 9,
   "metadata": {},
   "outputs": [],
   "source": [
    "f.close()"
   ]
  },
  {
   "cell_type": "code",
   "execution_count": 11,
   "metadata": {},
   "outputs": [
    {
     "output_type": "execute_result",
     "data": {
      "text/plain": "array([  608,   608,    20, 64000,     0,     0,     0,     0,     0,\n           0,     0,     0,     0,     0,     0,     0,     0,     0,\n           0,     0,     0,     0,     0,     0,     0,     0,     0,\n           0,     0,     0,     0,     0,     0,     0,     0,     0,\n           0,     0,     0,     0,     0,     0,     0,     0,     0,\n           0,     0,     0,     0,     0,     0,     0,     0,     0,\n           0,     0,     0,     0,     0,     0,     0,     0,     0,\n           0,     0,     0,     0,     0,     0,     0,     0,     0,\n           0,     0,     0,     0,     0,     0,     0,     0,     0,\n           0,     0,     0,     0,     0,     0,     0,     0,     0,\n           0,     0,     0,     0,     0,     0,     0,     0,     0,\n           0,     0,     0,     0,     0,     0,     0,     0,     0,\n           0,     0,     0,     0,     0,     0,     0,     0,     0,\n           0,     0,     0,     0,     0,     0,     0,     0,     0,\n           0,     0], dtype=uint32)"
     },
     "metadata": {},
     "execution_count": 11
    }
   ],
   "source": [
    "# Load up Config Sector\n",
    "f.seek(configSector * sectorSize, 0)  # Move to correct sector\n",
    "configSectorData = np.fromstring(f.read(sectorSize), dtype=np.uint32)\n",
    "configSectorData"
   ]
  },
  {
   "cell_type": "code",
   "execution_count": 12,
   "metadata": {
    "tags": []
   },
   "outputs": [
    {
     "output_type": "stream",
     "name": "stdout",
     "text": "[    9     0     0     0     0     0     0    30 63964]\n[    9     1     0     1     1     1     0    34 63964]\n[    9     2     0     2     2     2     0    39 63964]\n[    9     3     0     3     3     3     0    43 63964]\n[    9     4     0     4     4     4     0    47 63964]\n[    9     0     0     5     5     5     0    51 49844]\n[    9     1     1     6     0     6     0    80 63964]\n[    9     2     1     7     1     7     0    85 63964]\n[    9     3     1     8     2     8     0    89 63964]\n[    9     4     1     9     3     9     0    93 63964]\n[    9     0     1    10     4    10     0    98 63964]\n[    9     1     1    11     5    11     0   101 49844]\n[    9     2     2    12     0    12     0   131 63964]\n[    9     3     2    13     1    13     0   135 63964]\n[    9     4     2    14     2    14     0   140 63964]\n[    9     0     2    15     3    15     0   144 63964]\n[    9     1     2    16     4    16     0   148 63964]\n[    9     2     2    17     5    17     0   152 49844]\n[    9     3     3    18     0    18     0   182 63964]\n[    9     4     3    19     1    19     0   186 63964]\n[    9     0     3    20     2    20     0   190 63964]\n[    9     1     3    21     3    21     0   195 63964]\n[    9     2     3    22     4    22     0   199 63964]\n[    9     3     3    23     5    23     0   202 49844]\n[    9     4     4    24     0    24     0   232 63964]\n[    9     0     4    25     1    25     0   237 63964]\n[    9     1     4    26     2    26     0   241 63964]\n[    9     2     4    27     3    27     0   245 63964]\n[    9     3     4    28     4    28     0   250 63964]\n[    9     4     4    29     5    29     0   253 49844]\n[    9     0     5    30     0    30     0   283 63964]\n[    9     1     5    31     1    31     0   287 63964]\n[    9     2     5    32     2    32     0   292 63964]\n[    9     3     5    33     3    33     0   296 63964]\n[    9     4     5    34     4    34     0   300 63964]\n[    9     0     5    35     5    35     0   304 49844]\n[    9     1     6    36     0    36     0   334 63964]\n[    9     2     6    37     1    37     0   338 63964]\n[    9     3     6    38     2    38     0   342 63964]\n[    9     4     6    39     3    39     0   347 63964]\n[    9     0     6    40     4    40     0   351 63964]\n[    9     1     6    41     5    41     0   354 49844]\n[    9     2     7    42     0    42     0   384 63964]\n[    9     3     7    43     1    43     0   388 63964]\n[    9     4     7    44     2    44     0   393 63964]\n[    9     0     7    45     3    45     0   397 63964]\n[    9     1     7    46     4    46     0   401 63964]\n[    9     2     7    47     5    47     0   405 49844]\n[    9     3     8    48     0    48     0   435 63964]\n[    9     4     8    49     1    49     0   439 63964]\n[    9     0     8    50     2    50     0   443 63964]\n[    9     1     8    51     3    51     0   448 63964]\n[    9     2     8    52     4    52     0   452 63964]\n[    9     3     8    53     5    53     0   455 49844]\n[    9     4     9    54     0    54     0   485 63964]\n[    9     0     9    55     1    55     0   490 63964]\n[    9     1     9    56     2    56     0   494 63964]\n[    9     2     9    57     3    57     0   498 63964]\n[    9     3     9    58     4    58     0   503 63964]\n[    9     4     9    59     5    59     0   506 49844]\n[    9     0    10    60     0    60     0   536 63964]\n[    9     1    10    61     1    61     0   540 63964]\n[    9     2    10    62     2    62     0   545 63964]\n[    9     3    10    63     3    63     0   549 63964]\n[    9     4    10    64     4    64     0   553 63964]\n[    9     0    10    65     5    65     0   557 49844]\n[    9     1    11    66     0    66     0   587 63964]\n[    9     2    11    67     1    67     0   591 63964]\n[    9     3    11    68     2    68     0   595 63964]\n[    9     4    11    69     3    69     0   600 63964]\n[    9     0    11    70     4    70     0   604 63964]\n[    9     1    11    71     5    71     0   607 49844]\n[    9     2    12    72     0    72     0   637 63964]\n[    9     3    12    73     1    73     0   641 63964]\n[    9     4    12    74     2    74     0   646 63964]\n[    9     0    12    75     3    75     0   650 63964]\n[    9     1    12    76     4    76     0   654 63964]\n[    9     2    12    77     5    77     0   658 49844]\n[    9     3    13    78     0    78     0   688 63964]\n[    9     4    13    79     1    79     0   692 63964]\n[    9     0    13    80     2    80     0   696 63964]\n[    9     1    13    81     3    81     0   701 63964]\n[    9     2    13    82     4    82     0   705 63964]\n[    9     3    13    83     5    83     0   708 49844]\n[    9     4    14    84     0    84     0   738 63964]\n[    9     0    14    85     1    85     0   743 63964]\n[    9     1    14    86     2    86     0   747 63964]\n[    9     2    14    87     3    87     0   751 63964]\n[    9     3    14    88     4    88     0   756 63964]\n[    9     4    14    89     5    89     0   759 49844]\n[    9     0    15    90     0    90     0   789 63964]\n[    9     1    15    91     1    91     0   793 63964]\n[    9     2    15    92     2    92     0   798 63964]\n[    9     3    15    93     3    93     0   802 63964]\n[    9     4    15    94     4    94     0   806 63964]\n[    9     0    15    95     5    95     0   810 49844]\n[    9     1    16    96     0    96     0   840 63964]\n[    9     2    16    97     1    97     0   844 63964]\n[    9     3    16    98     2    98     0   848 63964]\n[    9     4    16    99     3    99     0   853 63964]\n[    9     0    16   100     4   100     0   857 63964]\n[    9     1    16   101     5   101     0   860 49844]\n[    9     2    17   102     0   102     0   890 63964]\n[    9     3    17   103     1   103     0   895 63964]\n"
    },
    {
     "output_type": "error",
     "ename": "ValueError",
     "evalue": "read length must be non-negative or -1",
     "traceback": [
      "\u001b[1;31m---------------------------------------------------------------------------\u001b[0m",
      "\u001b[1;31mValueError\u001b[0m                                Traceback (most recent call last)",
      "\u001b[1;32m<ipython-input-12-6f1c87781fe0>\u001b[0m in \u001b[0;36m<module>\u001b[1;34m\u001b[0m\n\u001b[0;32m      7\u001b[0m \u001b[1;32mfor\u001b[0m \u001b[0mi\u001b[0m \u001b[1;32min\u001b[0m \u001b[0mrange\u001b[0m\u001b[1;33m(\u001b[0m\u001b[1;36m5000\u001b[0m\u001b[1;33m)\u001b[0m\u001b[1;33m:\u001b[0m\u001b[1;33m\u001b[0m\u001b[1;33m\u001b[0m\u001b[0m\n\u001b[0;32m      8\u001b[0m     \u001b[0mdataHeader\u001b[0m \u001b[1;33m=\u001b[0m \u001b[0mnp\u001b[0m\u001b[1;33m.\u001b[0m\u001b[0mfromstring\u001b[0m\u001b[1;33m(\u001b[0m\u001b[0mf\u001b[0m\u001b[1;33m.\u001b[0m\u001b[0mread\u001b[0m\u001b[1;33m(\u001b[0m\u001b[1;36m4\u001b[0m\u001b[1;33m)\u001b[0m\u001b[1;33m,\u001b[0m \u001b[0mdtype\u001b[0m\u001b[1;33m=\u001b[0m\u001b[0mnp\u001b[0m\u001b[1;33m.\u001b[0m\u001b[0muint32\u001b[0m\u001b[1;33m)\u001b[0m\u001b[1;33m\u001b[0m\u001b[1;33m\u001b[0m\u001b[0m\n\u001b[1;32m----> 9\u001b[1;33m     \u001b[0mdataHeader\u001b[0m \u001b[1;33m=\u001b[0m \u001b[0mnp\u001b[0m\u001b[1;33m.\u001b[0m\u001b[0mappend\u001b[0m\u001b[1;33m(\u001b[0m\u001b[0mdataHeader\u001b[0m\u001b[1;33m,\u001b[0m \u001b[0mnp\u001b[0m\u001b[1;33m.\u001b[0m\u001b[0mfromstring\u001b[0m\u001b[1;33m(\u001b[0m\u001b[0mf\u001b[0m\u001b[1;33m.\u001b[0m\u001b[0mread\u001b[0m\u001b[1;33m(\u001b[0m\u001b[1;33m(\u001b[0m\u001b[0mdataHeader\u001b[0m\u001b[1;33m[\u001b[0m\u001b[0mBUFFER_HEADER_HEADER_LENGTH_POS\u001b[0m\u001b[1;33m]\u001b[0m \u001b[1;33m-\u001b[0m \u001b[1;36m1\u001b[0m\u001b[1;33m)\u001b[0m \u001b[1;33m*\u001b[0m \u001b[1;36m4\u001b[0m\u001b[1;33m)\u001b[0m\u001b[1;33m,\u001b[0m \u001b[0mdtype\u001b[0m\u001b[1;33m=\u001b[0m\u001b[0mnp\u001b[0m\u001b[1;33m.\u001b[0m\u001b[0muint32\u001b[0m\u001b[1;33m)\u001b[0m\u001b[1;33m)\u001b[0m\u001b[1;33m\u001b[0m\u001b[1;33m\u001b[0m\u001b[0m\n\u001b[0m\u001b[0;32m     10\u001b[0m \u001b[1;33m\u001b[0m\u001b[0m\n\u001b[0;32m     11\u001b[0m     \u001b[0mprint\u001b[0m\u001b[1;33m(\u001b[0m\u001b[0mdataHeader\u001b[0m\u001b[1;33m)\u001b[0m\u001b[1;33m\u001b[0m\u001b[1;33m\u001b[0m\u001b[0m\n",
      "\u001b[1;31mValueError\u001b[0m: read length must be non-negative or -1"
     ]
    }
   ],
   "source": [
    "# Read Data Sectors\n",
    "frameNum = 0\n",
    "pixelCount = 0\n",
    "\n",
    "frame = np.empty((configSectorData[CONFIG_BLOCK_WIDTH_POS] * configSectorData[CONFIG_BLOCK_HEIGHT_POS], 1), dtype=np.uint8)\n",
    "f.seek(dataStartSector * sectorSize, 0) # Starting data location\n",
    "for i in range(5000):\n",
    "    dataHeader = np.fromstring(f.read(4), dtype=np.uint32)\n",
    "    dataHeader = np.append(dataHeader, np.fromstring(f.read((dataHeader[BUFFER_HEADER_HEADER_LENGTH_POS] - 1) * 4), dtype=np.uint32))\n",
    "\n",
    "    print(dataHeader)\n",
    "    numBlocks = int((dataHeader[BUFFER_HEADER_DATA_LENGTH_POS] + (dataHeader[BUFFER_HEADER_HEADER_LENGTH_POS] * 4) + (512 - 1)) / 512)\n",
    "    data = np.fromstring(f.read(numBlocks*512 - dataHeader[BUFFER_HEADER_HEADER_LENGTH_POS] * 4), dtype=np.uint8)\n",
    "\n",
    "    # -------------------------------------\n",
    "    if (dataHeader[BUFFER_HEADER_FRAME_BUFFER_COUNT_POS] == 0):\n",
    "        # First buffer of a frame\n",
    "        frame[0:dataHeader[BUFFER_HEADER_DATA_LENGTH_POS], 0] = data\n",
    "        pixelCount = dataHeader[BUFFER_HEADER_DATA_LENGTH_POS]\n",
    "        frameNum = dataHeader[BUFFER_HEADER_FRAME_NUM_POS]\n",
    "    else:\n",
    "        # All other buffers of a frame\n",
    "        if (dataHeader[BUFFER_HEADER_FRAME_BUFFER_COUNT_POS] < 5):\n",
    "            frame[pixelCount:(pixelCount + dataHeader[BUFFER_HEADER_DATA_LENGTH_POS]), 0] = data\n",
    "            pixelCount = pixelCount + dataHeader[BUFFER_HEADER_DATA_LENGTH_POS]\n",
    "        else:\n",
    "            # Last buffer of frame. This should be handled better once amount of data is correctly added to header\n",
    "            frame[pixelCount:, 0] = data[:dataHeader[BUFFER_HEADER_DATA_LENGTH_POS]]\n",
    "            cv2.imshow('Video', np.reshape(frame, (configSectorData[CONFIG_BLOCK_WIDTH_POS], configSectorData[CONFIG_BLOCK_HEIGHT_POS] )))\n",
    "            cv2.waitKey(50)\n",
    "        \n",
    "cv2.destroyWindow('Video')\n"
   ]
  },
  {
   "cell_type": "code",
   "execution_count": 122,
   "metadata": {},
   "outputs": [],
   "source": [
    "f.close()"
   ]
  },
  {
   "cell_type": "code",
   "execution_count": 13,
   "metadata": {
    "tags": []
   },
   "outputs": [
    {
     "output_type": "stream",
     "name": "stdout",
     "text": "10076\n[    9     0    12    75     3    75     0   650 63964]\n10201\n[    9     1    12    76     4    76     0   654 63964]\n10326\n[    9     2    12    77     5    77     0   658 49844]\n10424\n[    9     3    13    78     0    78     0   688 63964]\n10549\n[    9     4    13    79     1    79     0   692 63964]\n10674\n[    9     0    13    80     2    80     0   696 63964]\n10799\n[    9     1    13    81     3    81     0   701 63964]\n10924\n[    9     2    13    82     4    82     0   705 63964]\n11049\n[    9     3    13    83     5    83     0   708 49844]\n11147\n[    9     4    14    84     0    84     0   738 63964]\n11272\n[    9     0    14    85     1    85     0   743 63964]\n11397\n[    9     1    14    86     2    86     0   747 63964]\n11522\n[    9     2    14    87     3    87     0   751 63964]\n11647\n[    9     3    14    88     4    88     0   756 63964]\n11772\n[    9     4    14    89     5    89     0   759 49844]\n11870\n[    9     0    15    90     0    90     0   789 63964]\n11995\n[    9     1    15    91     1    91     0   793 63964]\n12120\n[    9     2    15    92     2    92     0   798 63964]\n12245\n[    9     3    15    93     3    93     0   802 63964]\n12370\n[    9     4    15    94     4    94     0   806 63964]\n12495\n[    9     0    15    95     5    95     0   810 49844]\n12593\n[    9     1    16    96     0    96     0   840 63964]\n12718\n[    9     2    16    97     1    97     0   844 63964]\n12843\n[    9     3    16    98     2    98     0   848 63964]\n12968\n[    9     4    16    99     3    99     0   853 63964]\n13093\n[    9     0    16   100     4   100     0   857 63964]\n13218\n[    9     1    16   101     5   101     0   860 49844]\n13316\n[    9     2    17   102     0   102     0   890 63964]\n13441\n[    9     3    17   103     1   103     0   895 63964]\n13650\n[    9     1    60   361     1   310    51  3071 63964]\n13775\n[    9     1   102   616     4   517    99  5209 63964]\n13900\n[    9     1   145   871     1   724   147  7372 63964]\n"
    }
   ],
   "source": [
    "f.seek(10024 * 512)\n",
    "count = 10024\n",
    "for i in range(4000):\n",
    "    temp = np.fromstring(f.read(512), dtype=np.uint32)\n",
    "    \n",
    "    if (temp[0] == 7 or temp[0] == 9):\n",
    "        print(count)\n",
    "        print(temp[:9])\n",
    "    count = count + 1\n"
   ]
  },
  {
   "cell_type": "code",
   "execution_count": null,
   "metadata": {},
   "outputs": [],
   "source": [
    "# Delete data from SD Card\n",
    "f.seek(ataStartSector * sectorSize, 0)\n",
    "\n",
    "zeros = []\n",
    "for i in range(512):\n",
    "    zeros.append(0)\n",
    "binaryZeros = bytearray(zeros)\n",
    "f.write(binaryZeros)"
   ]
  }
 ]
}