{
 "cells": [
  {
   "cell_type": "markdown",
   "metadata": {
    "collapsed": true,
    "pycharm": {
     "name": "#%% md\n"
    }
   },
   "source": [
    "# Grabbing Frames from an SD Card\n",
    "\n",
    "The most basic example, point us at an SD card and start grabbin!"
   ]
  },
  {
   "cell_type": "code",
   "execution_count": 1,
   "metadata": {
    "pycharm": {
     "name": "#%%\n"
    }
   },
   "outputs": [],
   "source": [
    "from pprint import pprint\n",
    "from pathlib import Path\n",
    "import matplotlib.pyplot as plt\n",
    "\n",
    "from miniscope_io.io import SDCard\n",
    "from miniscope_io.formats import WireFreeSDLayout"
   ]
  },
  {
   "cell_type": "markdown",
   "metadata": {
    "pycharm": {
     "name": "#%% md\n"
    }
   },
   "source": [
    "The `WireFreeSDConfig` object is an instance of the `sdcard.SDLayout` class. The `SDLayout`\n",
    "class is a generic way of declaring how data is laid out on an SD card, and the WireFree layout\n",
    "is one instance of that! This layer of abstraction lets us write reusable code for grabbing\n",
    "frames, and also gives us a way of storing, communicating, and reasoning about SD card layouts\n",
    "in a way that's a little more flexible than hardcoding constants. In a future version we\n",
    "probably want to be more explicit about how to map individual sectors of the model to the\n",
    "SD card so we can do stuff like random seek and whatnot, but this will do for now!\n",
    "\n",
    "It looks like this:"
   ]
  },
  {
   "cell_type": "code",
   "execution_count": 2,
   "metadata": {
    "pycharm": {
     "name": "#%%\n"
    }
   },
   "outputs": [
    {
     "name": "stdout",
     "output_type": "stream",
     "text": [
      "{'sectors': {'header': 1022, 'config': 1023, 'data': 1024, 'size': 512},\n",
      " 'write_key0': 226277911,\n",
      " 'write_key1': 226277911,\n",
      " 'write_key2': 226277911,\n",
      " 'write_key3': 226277911,\n",
      " 'word_size': 4,\n",
      " 'header': {'gain': 4,\n",
      "            'led': 5,\n",
      "            'ewl': 6,\n",
      "            'record_length': 7,\n",
      "            'fs': 8,\n",
      "            'delay_start': 9,\n",
      "            'battery_cutoff': 10},\n",
      " 'config': {'width': 0,\n",
      "            'height': 1,\n",
      "            'fs': 2,\n",
      "            'buffer_size': 3,\n",
      "            'n_buffers_recorded': 4,\n",
      "            'n_buffers_dropped': 5},\n",
      " 'buffer': {'length': 0,\n",
      "            'linked_list': 1,\n",
      "            'frame_num': 2,\n",
      "            'buffer_count': 3,\n",
      "            'frame_buffer_count': 4,\n",
      "            'write_buffer_count': 5,\n",
      "            'dropped_buffer_count': 6,\n",
      "            'timestamp': 7,\n",
      "            'data_length': 8,\n",
      "            'write_timestamp': None}}\n"
     ]
    }
   ],
   "source": [
    "pprint(WireFreeSDLayout.dict(), sort_dicts=False)"
   ]
  },
  {
   "cell_type": "markdown",
   "metadata": {
    "pycharm": {
     "name": "#%% md\n"
    }
   },
   "source": [
    "Using the SDCard class with the SDLayout class is straightforward, but since I don't have a\n",
    "data sample I can't actually test that it works right now!\n",
    "\n",
    "In the future once I get an image we would want to make some jupyter widget to select possible drives,\n",
    "but for now i'll just hardcode it as a string for the sake of an example. The `SDCard` class has a\n",
    "`check_valid` method that looks for the `WRITE_KEY`s as in the prior notebook, so we could also\n",
    "make that into a classmethod and just automatically find the right drive that way."
   ]
  },
  {
   "cell_type": "code",
   "execution_count": 6,
   "metadata": {
    "pycharm": {
     "name": "#%%\n"
    }
   },
   "outputs": [],
   "source": [
    "drive = Path('..') / 'data' / 'wirefree_example.img'"
   ]
  },
  {
   "cell_type": "code",
   "execution_count": 8,
   "metadata": {
    "pycharm": {
     "name": "#%%\n"
    }
   },
   "outputs": [
    {
     "name": "stdout",
     "output_type": "stream",
     "text": [
      "{'buffer_size': 20480,\n",
      " 'fs': 20,\n",
      " 'height': 304,\n",
      " 'n_buffers_dropped': 0,\n",
      " 'n_buffers_recorded': 1938,\n",
      " 'width': 304}\n"
     ]
    }
   ],
   "source": [
    "sd = SDCard(drive=drive, layout = WireFreeSDLayout)\n",
    "\n",
    "pprint(sd.config.dict())"
   ]
  },
  {
   "cell_type": "code",
   "execution_count": 9,
   "metadata": {},
   "outputs": [
    {
     "ename": "TypeError",
     "evalue": "__exit__() takes 1 positional argument but 4 were given",
     "output_type": "error",
     "traceback": [
      "\u001B[0;31m---------------------------------------------------------------------------\u001B[0m",
      "\u001B[0;31mValueError\u001B[0m                                Traceback (most recent call last)",
      "Cell \u001B[0;32mIn[9], line 3\u001B[0m\n\u001B[1;32m      2\u001B[0m \u001B[38;5;28;01mfor\u001B[39;00m i \u001B[38;5;129;01min\u001B[39;00m \u001B[38;5;28mrange\u001B[39m(\u001B[38;5;241m20\u001B[39m):\n\u001B[0;32m----> 3\u001B[0m     frame \u001B[38;5;241m=\u001B[39m \u001B[43msd\u001B[49m\u001B[38;5;241;43m.\u001B[39;49m\u001B[43mread\u001B[49m\u001B[43m(\u001B[49m\u001B[43m)\u001B[49m\n\u001B[1;32m      4\u001B[0m     plt\u001B[38;5;241m.\u001B[39mimshow(frame)\n",
      "File \u001B[0;32m~/git/miniscope/miniscope-io/miniscope_io/io.py:260\u001B[0m, in \u001B[0;36mSDCard.read\u001B[0;34m(self)\u001B[0m\n\u001B[1;32m    259\u001B[0m data \u001B[38;5;241m=\u001B[39m \u001B[38;5;28mself\u001B[39m\u001B[38;5;241m.\u001B[39m_trim(data, header\u001B[38;5;241m.\u001B[39mdata_length)\n\u001B[0;32m--> 260\u001B[0m \u001B[38;5;28;43mself\u001B[39;49m\u001B[38;5;241;43m.\u001B[39;49m\u001B[43m_array\u001B[49m\u001B[43m[\u001B[49m\u001B[43mpixel_count\u001B[49m\u001B[43m:\u001B[49m\u001B[43mpixel_count\u001B[49m\u001B[43m \u001B[49m\u001B[38;5;241;43m+\u001B[39;49m\u001B[43m \u001B[49m\u001B[43mheader\u001B[49m\u001B[38;5;241;43m.\u001B[39;49m\u001B[43mdata_length\u001B[49m\u001B[43m]\u001B[49m \u001B[38;5;241m=\u001B[39m data\n\u001B[1;32m    261\u001B[0m pixel_count \u001B[38;5;241m+\u001B[39m\u001B[38;5;241m=\u001B[39m header\u001B[38;5;241m.\u001B[39mdata_length\n",
      "\u001B[0;31mValueError\u001B[0m: could not broadcast input array from shape (20440,) into shape (20440,1)",
      "\nDuring handling of the above exception, another exception occurred:\n",
      "\u001B[0;31mTypeError\u001B[0m                                 Traceback (most recent call last)",
      "Cell \u001B[0;32mIn[9], line 4\u001B[0m\n\u001B[1;32m      2\u001B[0m \u001B[38;5;28;01mfor\u001B[39;00m i \u001B[38;5;129;01min\u001B[39;00m \u001B[38;5;28mrange\u001B[39m(\u001B[38;5;241m20\u001B[39m):\n\u001B[1;32m      3\u001B[0m     frame \u001B[38;5;241m=\u001B[39m sd\u001B[38;5;241m.\u001B[39mread()\n\u001B[0;32m----> 4\u001B[0m     plt\u001B[38;5;241m.\u001B[39mimshow(frame)\n",
      "\u001B[0;31mTypeError\u001B[0m: __exit__() takes 1 positional argument but 4 were given"
     ]
    }
   ],
   "source": [
    "\n",
    "with sd:\n",
    "    for i in range(20):\n",
    "        frame = sd.read()\n",
    "        plt.imshow(frame)\n",
    "    "
   ]
  },
  {
   "cell_type": "code",
   "execution_count": null,
   "metadata": {},
   "outputs": [],
   "source": []
  }
 ],
 "metadata": {
  "celltoolbar": "Raw Cell Format",
  "kernelspec": {
   "display_name": "Python 3 (ipykernel)",
   "language": "python",
   "name": "python3"
  },
  "language_info": {
   "codemirror_mode": {
    "name": "ipython",
    "version": 3
   },
   "file_extension": ".py",
   "mimetype": "text/x-python",
   "name": "python",
   "nbconvert_exporter": "python",
   "pygments_lexer": "ipython3",
   "version": "3.9.1"
  }
 },
 "nbformat": 4,
 "nbformat_minor": 1
}