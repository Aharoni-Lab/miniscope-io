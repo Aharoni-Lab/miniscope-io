{
 "cells": [
  {
   "cell_type": "markdown",
   "metadata": {
    "collapsed": true,
    "pycharm": {
     "name": "#%% md\n"
    }
   },
   "source": [
    "# Grabbing Frames from an SD Card\n",
    "\n",
    "The most basic example, point us at an SD card and start grabbin!"
   ]
  },
  {
   "cell_type": "code",
   "execution_count": 1,
   "outputs": [],
   "source": [
    "from pprint import pprint\n",
    "from pathlib import Path\n",
    "from miniscope_io.io import SDCard\n",
    "from miniscope_io.formats import WireFreeSDLayout"
   ],
   "metadata": {
    "collapsed": false,
    "pycharm": {
     "name": "#%%\n"
    }
   }
  },
  {
   "cell_type": "markdown",
   "source": [
    "The `WireFreeSDConfig` object is an instance of the `sdcard.SDLayout` class. The `SDLayout`\n",
    "class is a generic way of declaring how data is laid out on an SD card, and the WireFree layout\n",
    "is one instance of that! This layer of abstraction lets us write reusable code for grabbing\n",
    "frames, and also gives us a way of storing, communicating, and reasoning about SD card layouts\n",
    "in a way that's a little more flexible than hardcoding constants. In a future version we\n",
    "probably want to be more explicit about how to map individual sectors of the model to the\n",
    "SD card so we can do stuff like random seek and whatnot, but this will do for now!\n",
    "\n",
    "It looks like this:"
   ],
   "metadata": {
    "collapsed": false,
    "pycharm": {
     "name": "#%% md\n"
    }
   }
  },
  {
   "cell_type": "code",
   "execution_count": 3,
   "outputs": [
    {
     "name": "stdout",
     "output_type": "stream",
     "text": [
      "{'sectors': {'header': 1023, 'config': 1024, 'data': 1025, 'size': 512},\n",
      " 'write_key0': 226277911,\n",
      " 'write_key1': 226277911,\n",
      " 'write_key2': 226277911,\n",
      " 'write_key3': 226277911,\n",
      " 'word_size': 4,\n",
      " 'header': {'gain': 4, 'led': 5, 'ewl': 6, 'record_length': 7, 'fs': 8},\n",
      " 'config': {'width': 0,\n",
      "            'height': 1,\n",
      "            'fs': 2,\n",
      "            'buffer_size': 3,\n",
      "            'n_buffers_recorded': 4,\n",
      "            'n_buffers_dropped': 5},\n",
      " 'buffer': {'length': 0,\n",
      "            'linked_list': 1,\n",
      "            'frame_num': 2,\n",
      "            'buffer_count': 3,\n",
      "            'frame_buffer_count': 4,\n",
      "            'write_buffer_count': 5,\n",
      "            'dropped_buffer_count': 6,\n",
      "            'timestamp': 7,\n",
      "            'data_length': 8}}\n"
     ]
    }
   ],
   "source": [
    "pprint(WireFreeSDLayout.dict(), sort_dicts=False)"
   ],
   "metadata": {
    "collapsed": false,
    "pycharm": {
     "name": "#%%\n"
    }
   }
  },
  {
   "cell_type": "markdown",
   "source": [
    "Using the SDCard class with the SDLayout class is straightforward, but since I don't have a\n",
    "data sample I can't actually test that it works right now!\n",
    "\n",
    "In the future once I get an image we would want to make some jupyter widget to select possible drives,\n",
    "but for now i'll just hardcode it as a string for the sake of an example. The `SDCard` class has a\n",
    "`check_valid` method that looks for the `WRITE_KEY`s as in the prior notebook, so we could also\n",
    "make that into a classmethod and just automatically find the right drive that way."
   ],
   "metadata": {
    "collapsed": false,
    "pycharm": {
     "name": "#%% md\n"
    }
   }
  },
  {
   "cell_type": "code",
   "execution_count": null,
   "outputs": [],
   "source": [
    "drive = Path('/') / 'using' / 'OS' / 'independent' / 'paths'\n",
    "sd = SDCard(drive=drive, layout = WireFreeSDLayout)\n",
    "\n",
    "for frame in sd.reader():\n",
    "    # do something with the frame!\n",
    "    pass\n",
    "\n",
    "# or we can use it outside of a loop like this\n",
    "# reader = sd.reader()\n",
    "# frame = next(reader)"
   ],
   "metadata": {
    "collapsed": false,
    "pycharm": {
     "name": "#%%\n"
    }
   }
  }
 ],
 "metadata": {
  "kernelspec": {
   "display_name": "Python 3",
   "language": "python",
   "name": "python3"
  },
  "language_info": {
   "codemirror_mode": {
    "name": "ipython",
    "version": 2
   },
   "file_extension": ".py",
   "mimetype": "text/x-python",
   "name": "python",
   "nbconvert_exporter": "python",
   "pygments_lexer": "ipython2",
   "version": "2.7.6"
  }
 },
 "nbformat": 4,
 "nbformat_minor": 0
}