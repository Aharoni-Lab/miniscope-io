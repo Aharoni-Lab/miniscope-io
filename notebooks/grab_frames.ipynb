{
 "cells": [
  {
   "cell_type": "markdown",
   "metadata": {
    "collapsed": true,
    "pycharm": {
     "name": "#%% md\n"
    }
   },
   "source": [
    "# Grabbing Frames from an SD Card\n",
    "\n",
    "The most basic example, point us at an SD card and start grabbin!"
   ]
  },
  {
   "cell_type": "code",
   "execution_count": null,
   "metadata": {
    "pycharm": {
     "name": "#%%\n"
    }
   },
   "outputs": [],
   "source": [
    "from pprint import pprint\n",
    "from pathlib import Path\n",
    "import matplotlib.pyplot as plt\n",
    "import matplotlib.animation as animation\n",
    "from IPython.display import display, HTML\n",
    "import warnings\n",
    "warnings.filterwarnings(\"ignore\")\n",
    "\n",
    "from miniscope_io.io import SDCard\n",
    "from miniscope_io.formats import WireFreeSDLayout"
   ]
  },
  {
   "cell_type": "markdown",
   "metadata": {
    "pycharm": {
     "name": "#%% md\n"
    }
   },
   "source": [
    "The `WireFreeSDConfig` object is an instance of the `sdcard.SDLayout` class. The `SDLayout`\n",
    "class is a generic way of declaring how data is laid out on an SD card, and the WireFree layout\n",
    "is one instance of that! This layer of abstraction lets us write reusable code for grabbing\n",
    "frames, and also gives us a way of storing, communicating, and reasoning about SD card layouts\n",
    "in a way that's a little more flexible than hardcoding constants. In a future version we\n",
    "probably want to be more explicit about how to map individual sectors of the model to the\n",
    "SD card so we can do stuff like random seek and whatnot, but this will do for now!\n",
    "\n",
    "It looks like this:"
   ]
  },
  {
   "cell_type": "code",
   "execution_count": null,
   "metadata": {
    "pycharm": {
     "name": "#%%\n"
    }
   },
   "outputs": [],
   "source": [
    "pprint(WireFreeSDLayout.dict(), sort_dicts=False)"
   ]
  },
  {
   "cell_type": "markdown",
   "metadata": {
    "pycharm": {
     "name": "#%% md\n"
    }
   },
   "source": [
    "Using the SDCard class with the SDLayout class is straightforward, but since I don't have a\n",
    "data sample I can't actually test that it works right now!\n",
    "\n",
    "In the future once I get an image we would want to make some jupyter widget to select possible drives,\n",
    "but for now i'll just hardcode it as a string for the sake of an example. The `SDCard` class has a\n",
    "`check_valid` method that looks for the `WRITE_KEY`s as in the prior notebook, so we could also\n",
    "make that into a classmethod and just automatically find the right drive that way."
   ]
  },
  {
   "cell_type": "code",
   "execution_count": null,
   "metadata": {
    "pycharm": {
     "name": "#%%\n"
    }
   },
   "outputs": [],
   "source": [
    "#For reading out SD card image file\n",
    "#drive = Path('..') / 'data' / 'test.img'\n",
    "#directpath = False\n",
    "\n",
    "#For directly reading out SD card. Drive number can be found with Get-PhysicalDisk command (for Windows Powershell)\n",
    "drive = r\"\\\\.\\PhysicalDrive3\"\n",
    "directpath = True"
   ]
  },
  {
   "cell_type": "code",
   "execution_count": null,
   "metadata": {
    "pycharm": {
     "name": "#%%\n"
    }
   },
   "outputs": [],
   "source": [
    "sd = SDCard(drive=drive, layout = WireFreeSDLayout, directpath=directpath)\n",
    "\n",
    "pprint(sd.config.dict())"
   ]
  },
  {
   "cell_type": "code",
   "execution_count": null,
   "metadata": {},
   "outputs": [],
   "source": [
    "fig, ax = plt.subplots()\n",
    "\n",
    "# stashing the matplotlib frames to make an animation\n",
    "frames = []\n",
    "\n",
    "with sd:\n",
    "    # Seek to 5 seconds in\n",
    "    sd.frame = sd.config.fs * 5\n",
    "\n",
    "    # Play for 5 seconds\n",
    "    for i in range(sd.config.fs * 5):\n",
    "        frame = sd.read()\n",
    "        frames.append([ax.imshow(frame, cmap='gray', animated=True)])\n",
    "\n",
    "# Show animation\n",
    "anim = animation.ArtistAnimation(fig, frames, interval=sd.config.fs, blit=True)\n",
    "display(HTML(anim.to_jshtml(fps=sd.config.fs)))\n",
    "    "
   ]
  }
 ],
 "metadata": {
  "celltoolbar": "Raw Cell Format",
  "kernelspec": {
   "display_name": "Python 3 (ipykernel)",
   "language": "python",
   "name": "python3"
  },
  "language_info": {
   "codemirror_mode": {
    "name": "ipython",
    "version": 3
   },
   "file_extension": ".py",
   "mimetype": "text/x-python",
   "name": "python",
   "nbconvert_exporter": "python",
   "pygments_lexer": "ipython3",
   "version": "3.10.11"
  }
 },
 "nbformat": 4,
 "nbformat_minor": 1
}
